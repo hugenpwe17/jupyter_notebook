{
 "cells": [
  {
   "cell_type": "markdown",
   "id": "18a613fe",
   "metadata": {},
   "source": [
    "# 1.A + B问题\n",
    "\n",
    "给出两个整数 aa 和 bb , 求他们的和并以整数（int）的形式返回。\n",
    "\n",
    "## 范围\n",
    "\n",
    "-2^31 <= a, b <= 2^31 -1 \n",
    "-2^31 <= a + b <= 2^31 -1 \n",
    "\n",
    "## 样例\n",
    "样例 1：\n",
    "\n",
    "输入：\n",
    "\n",
    "a = 1\n",
    "b = 2\n",
    "输出：\n",
    "\n",
    "3\n",
    "解释：\n",
    "\n",
    "a + b = 1 + 2 = 3\n",
    "\n",
    "样例 2：\n",
    "\n",
    "输入：\n",
    "\n",
    "a = -1\n",
    "b = 1\n",
    "输出：\n",
    "\n",
    "0\n",
    "解释：\n",
    "\n",
    "a + b = -1 + 1 = 0\n",
    "\n",
    "## 挑战\n",
    "显然你可以直接返回 a + b，但是你是否可以挑战不这样做？（不使用+等算数运算符）"
   ]
  },
  {
   "cell_type": "code",
   "execution_count": 197,
   "id": "dad258ed",
   "metadata": {},
   "outputs": [],
   "source": [
    "## method 1\n",
    "class Solution():\n",
    "    \"\"\"\n",
    "    @param a: An integer\n",
    "    @param b: An integer\n",
    "    @return: The sum of a and b \n",
    "    \"\"\"\n",
    "    def mySum(self, a, b):        # <----为什么设定self\n",
    "        # write your code here\n",
    "        self = a + b \n",
    "        return self"
   ]
  },
  {
   "cell_type": "code",
   "execution_count": 198,
   "id": "477075be",
   "metadata": {},
   "outputs": [
    {
     "data": {
      "text/plain": [
       "'0x7fffffff'"
      ]
     },
     "execution_count": 198,
     "metadata": {},
     "output_type": "execute_result"
    }
   ],
   "source": [
    "a = Solution()\n",
    "hex(a.mySum(pow(2,31)-1,0))"
   ]
  },
  {
   "cell_type": "code",
   "execution_count": 199,
   "id": "0d70ada4",
   "metadata": {},
   "outputs": [],
   "source": [
    "## method 2\n",
    "class Solution():\n",
    "    def mySum(self, a, b):\n",
    "        INT_RANGE = 0xFFFFFFFF\n",
    "        while b != 0:\n",
    "            a, b = a ^ b, (a & b) << 1\n",
    "            #a &= INT_RANGE\n",
    "        return a if a >> 31 == 0 else a ^ ~INT_RANGE"
   ]
  },
  {
   "cell_type": "code",
   "execution_count": 200,
   "id": "622d7e32",
   "metadata": {},
   "outputs": [
    {
     "name": "stdout",
     "output_type": "stream",
     "text": [
      "3\n"
     ]
    }
   ],
   "source": [
    "a = Solution()\n",
    "print(a.mySum(2,1))"
   ]
  },
  {
   "cell_type": "code",
   "execution_count": 118,
   "id": "9dd5d122",
   "metadata": {},
   "outputs": [
    {
     "name": "stdout",
     "output_type": "stream",
     "text": [
      "0b11111111111111111111111111111111\n",
      "0b10000000000000000000000000000000\n"
     ]
    },
    {
     "data": {
      "text/plain": [
       "0"
      ]
     },
     "execution_count": 118,
     "metadata": {},
     "output_type": "execute_result"
    }
   ],
   "source": [
    "INT_RANGE = pow(2,32) - 1\n",
    "print(bin(INT_RANGE))\n",
    "\n",
    "print(bin((pow(2,31)-0)))\n",
    "\n",
    "(pow(2,31)-1) >> 31"
   ]
  },
  {
   "cell_type": "markdown",
   "id": "f16846e1",
   "metadata": {},
   "source": [
    "结论：Python自身的加法不会溢出,int超过0x7FFFFFFF之后会自动转成long"
   ]
  },
  {
   "cell_type": "markdown",
   "id": "43337d3f",
   "metadata": {},
   "source": [
    "# 37.反转一个三位整数\n",
    "\n",
    "## 你可以假设输入一定是一个只有三位数的整数，这个整数大于等于100，小于1000。\n",
    "\n",
    "## 样例\n",
    "样例 1：\n",
    "\n",
    "输入：\n",
    "\n",
    "number = 123\n",
    "输出：\n",
    "\n",
    "321\n",
    "\n",
    "解释：\n",
    "\n",
    "反转数字。\n",
    "\n",
    "样例 2：\n",
    "\n",
    "输入：\n",
    "\n",
    "number = 900\n",
    "输出：\n",
    "\n",
    "9\n",
    "\n",
    "解释：\n",
    "\n",
    "反转数字。"
   ]
  },
  {
   "cell_type": "code",
   "execution_count": 205,
   "id": "82318403",
   "metadata": {},
   "outputs": [],
   "source": [
    "## method 1\n",
    "class Solution():\n",
    "    def reverseInteger(self, number):\n",
    "        unit = number % 10\n",
    "        tens = number // 10 % 10\n",
    "        hundreds = number // 100\n",
    "        return unit*100+tens*10+hundreds"
   ]
  },
  {
   "cell_type": "code",
   "execution_count": 211,
   "id": "e7732e09",
   "metadata": {},
   "outputs": [
    {
     "data": {
      "text/plain": [
       "419"
      ]
     },
     "execution_count": 211,
     "metadata": {},
     "output_type": "execute_result"
    }
   ],
   "source": [
    "a = Solution()\n",
    "a.reverseInteger(914)"
   ]
  },
  {
   "cell_type": "markdown",
   "id": "33c4eaf6",
   "metadata": {},
   "source": [
    "# 764.计算圆周长和面积\n",
    "\n",
    "## 描述\n",
    "给定一个整数r代表一个圆的半径。\n",
    "你的任务是返回一个数组。\n",
    "其中数组的第一个元素代表圆的周长，数组的第二个元素代表圆的面积。\n",
    "\n",
    "PI = 3.14\n",
    "\n",
    "## 样例\n",
    "样例 1:\n",
    "\n",
    "输入 : r = 2\n",
    "输出 : [12.56, 12.56]"
   ]
  },
  {
   "cell_type": "code",
   "execution_count": 237,
   "id": "948fb40b",
   "metadata": {},
   "outputs": [],
   "source": [
    "## method 1\n",
    "class Solution():\n",
    "    def calculateCircle(self, r):\n",
    "        ans = []\n",
    "        ans.append(2 * 3.14 * r)\n",
    "        ans.append(3.14 * r * r)\n",
    "        return ans"
   ]
  },
  {
   "cell_type": "code",
   "execution_count": 240,
   "id": "7bb22398",
   "metadata": {},
   "outputs": [
    {
     "data": {
      "text/plain": [
       "[18.84, 28.259999999999998]"
      ]
     },
     "execution_count": 240,
     "metadata": {},
     "output_type": "execute_result"
    }
   ],
   "source": [
    "a = Solution();\n",
    "a.calculateCircle(3)"
   ]
  },
  {
   "cell_type": "markdown",
   "id": "bbf32b28",
   "metadata": {},
   "source": [
    "# 1300.巴什博弈\n",
    "\n",
    "## 描述\n",
    "你正在和朋友玩一个游戏：桌子上有一堆石头，每一次你们都会从中拿出1到3个石头。拿走最后一个石头的人赢得游戏。游戏开始时，你是先手。\n",
    "\n",
    "假设两个人都绝对理性，都会做出最优决策。给定石头的数量，判断你是否会赢得比赛。\n",
    "\n",
    "举例：有四个石头，那么你永远不会赢得游戏。不管拿几个，最后一个石头一定会被你的朋友拿走。\n",
    "\n",
    "## 样例\n",
    "样例 1：\n",
    "\n",
    "输入：n = 4 \n",
    "输出：False\n",
    "解析：先手取走1,2或者3，对方都会取走最后一个\n",
    "样例 2：\n",
    "\n",
    "输入：n = 5 \n",
    "输出：True\n",
    "解析：先手拿1个，必胜"
   ]
  },
  {
   "cell_type": "code",
   "execution_count": 241,
   "id": "5b5ea18f",
   "metadata": {},
   "outputs": [],
   "source": [
    "class Solution():\n",
    "    def canWinBash(self, n):\n",
    "        if n%4 == 0:\n",
    "            return False\n",
    "        else:\n",
    "            return True"
   ]
  },
  {
   "cell_type": "code",
   "execution_count": 245,
   "id": "d0a5dd7b",
   "metadata": {},
   "outputs": [
    {
     "data": {
      "text/plain": [
       "False"
      ]
     },
     "execution_count": 245,
     "metadata": {},
     "output_type": "execute_result"
    }
   ],
   "source": [
    "a = Solution()\n",
    "a.canWinBash(16)"
   ]
  },
  {
   "cell_type": "markdown",
   "id": "28ba280f",
   "metadata": {},
   "source": [
    "# 23.判断数字与字母字符"
   ]
  },
  {
   "cell_type": "code",
   "execution_count": 260,
   "id": "9b1d2830",
   "metadata": {},
   "outputs": [],
   "source": [
    "class Solution():\n",
    "    def isAlphaNumeric(self, c: str) -> bool:\n",
    "        cAscii = ord(c)\n",
    "        if cAscii >= 48 and cAscii <= 57:\n",
    "            return True\n",
    "        elif cAscii >= 65 and cAscii <= 90:\n",
    "            return True\n",
    "        elif cAscii >= 97 and cAscii <= 122:\n",
    "            return True\n",
    "        else:\n",
    "            return Fals"
   ]
  },
  {
   "cell_type": "code",
   "execution_count": 275,
   "id": "49dd86ac",
   "metadata": {},
   "outputs": [
    {
     "name": "stdout",
     "output_type": "stream",
     "text": [
      "True\n",
      "True\n",
      "False\n"
     ]
    }
   ],
   "source": [
    "a = Solution()\n",
    "print(a.isAlphaNumeric('a'))\n",
    "print(a.isAlphaNumeric('1'))\n",
    "print(a.isAlphaNumeric('='))"
   ]
  },
  {
   "cell_type": "markdown",
   "id": "9bf6ed5e",
   "metadata": {},
   "source": [
    "# 766.闰年"
   ]
  },
  {
   "cell_type": "code",
   "execution_count": 1,
   "id": "2a8f33b3",
   "metadata": {},
   "outputs": [],
   "source": [
    "class Solution():\n",
    "    def isLeapYear(self, n):\n",
    "        if((n % 4 ==0)&(n % 100 != 0)):\n",
    "            return True\n",
    "        if(n % 400 == 0):\n",
    "            return True\n",
    "        else:\n",
    "            return False"
   ]
  },
  {
   "cell_type": "code",
   "execution_count": 3,
   "id": "a84d2d21",
   "metadata": {},
   "outputs": [
    {
     "data": {
      "text/plain": [
       "False"
      ]
     },
     "execution_count": 3,
     "metadata": {},
     "output_type": "execute_result"
    }
   ],
   "source": [
    "a = Solution()\n",
    "a.isLeapYear(2018)"
   ]
  },
  {
   "cell_type": "markdown",
   "id": "72f8ca81",
   "metadata": {},
   "source": [
    "# 145.大小写"
   ]
  },
  {
   "cell_type": "code",
   "execution_count": 11,
   "id": "dfb6dc3a",
   "metadata": {},
   "outputs": [],
   "source": [
    "class Solution():\n",
    "    def convert(self, c: chr) -> bool:\n",
    "        int_temp = ord(c)\n",
    "        if(ord('A') <= int_temp <= ord('Z')):\n",
    "            return chr(int_temp + 32)\n",
    "        if(ord('a') <= int_temp <= ord('z')):\n",
    "            return chr(int_temp - 32)\n",
    "        else:\n",
    "            print(\"error\")"
   ]
  },
  {
   "cell_type": "code",
   "execution_count": 15,
   "id": "fa9888d8",
   "metadata": {},
   "outputs": [
    {
     "data": {
      "text/plain": [
       "'Z'"
      ]
     },
     "execution_count": 15,
     "metadata": {},
     "output_type": "execute_result"
    }
   ],
   "source": [
    "a = Solution()\n",
    "a.convert('z')"
   ]
  },
  {
   "cell_type": "markdown",
   "id": "f553a7fb",
   "metadata": {},
   "source": [
    "# 1141.月份天数"
   ]
  },
  {
   "cell_type": "code",
   "execution_count": 83,
   "id": "11d6e8d5",
   "metadata": {},
   "outputs": [],
   "source": [
    "class Solution():\n",
    "    def getTheMonthDays(self, year, month):\n",
    "        day = [31, 28, 31, 30, 31, 30,\n",
    "               31, 31, 30, 31, 30, 31]\n",
    "        if (month == 2):\n",
    "            if(((year % 4 == 0)&(year % 100 != 0)) | (year % 400 == 0)):\n",
    "                return 29\n",
    "            else:\n",
    "                return day[month - 1]\n",
    "        else:\n",
    "            return day[month - 1]"
   ]
  },
  {
   "cell_type": "code",
   "execution_count": 84,
   "id": "93098c26",
   "metadata": {},
   "outputs": [
    {
     "name": "stdout",
     "output_type": "stream",
     "text": [
      "29\n",
      "28\n"
     ]
    }
   ],
   "source": [
    "a = Solution()\n",
    "print(a.getTheMonthDays(2008,2))\n",
    "print(a.getTheMonthDays(2018,2))"
   ]
  },
  {
   "cell_type": "markdown",
   "id": "1b8ec7ea",
   "metadata": {},
   "source": [
    "# 478.简单计算器"
   ]
  },
  {
   "cell_type": "code",
   "execution_count": 22,
   "id": "7a707860",
   "metadata": {},
   "outputs": [],
   "source": [
    "class Solution():\n",
    "    def calculator(self, a, b, operator: chr):\n",
    "        if operator == '+':\n",
    "            return a + b\n",
    "        if(operator == '-'):\n",
    "            return a - b\n",
    "        if(operator == '*'):\n",
    "            return a * b\n",
    "        if(operator == '/'):\n",
    "            return a // b\n",
    "        else:\n",
    "            print(error)"
   ]
  },
  {
   "cell_type": "code",
   "execution_count": 26,
   "id": "7d089d04",
   "metadata": {},
   "outputs": [
    {
     "data": {
      "text/plain": [
       "2"
      ]
     },
     "execution_count": 26,
     "metadata": {},
     "output_type": "execute_result"
    }
   ],
   "source": [
    "a = Solution()\n",
    "a.calculator(1, 2, '*')"
   ]
  },
  {
   "cell_type": "markdown",
   "id": "60afec9e",
   "metadata": {},
   "source": [
    "# 283.三数中最大的数"
   ]
  },
  {
   "cell_type": "code",
   "execution_count": 57,
   "id": "c9385eab",
   "metadata": {},
   "outputs": [],
   "source": [
    "class Solution():\n",
    "    def getMaxOfThreeNums(self, a, b, c):\n",
    "        if((a >= b) & (a >= c)):\n",
    "            return a\n",
    "        elif((b >= a) & (b >= c)):\n",
    "            return b\n",
    "        else:\n",
    "            return c"
   ]
  },
  {
   "cell_type": "code",
   "execution_count": 59,
   "id": "8c0539f0",
   "metadata": {},
   "outputs": [
    {
     "data": {
      "text/plain": [
       "41"
      ]
     },
     "execution_count": 59,
     "metadata": {},
     "output_type": "execute_result"
    }
   ],
   "source": [
    "a = Solution()\n",
    "a.getMaxOfThreeNums(41,24,31)"
   ]
  },
  {
   "cell_type": "markdown",
   "id": "93f19fc9",
   "metadata": {},
   "source": [
    "# 25.打印X"
   ]
  },
  {
   "cell_type": "code",
   "execution_count": 79,
   "id": "3693d41d",
   "metadata": {},
   "outputs": [],
   "source": [
    "class Solution():\n",
    "    def printX(self, n):\n",
    "        lib = [['X'],['XX','XX'],\n",
    "               ['X X','X','X X'],\n",
    "               ['X  X','XX','XX','X  X'],\n",
    "               ['X   X','X X','X','X X','X   X']]\n",
    "        return lib[n - 1]"
   ]
  },
  {
   "cell_type": "code",
   "execution_count": 82,
   "id": "ff366add",
   "metadata": {},
   "outputs": [
    {
     "name": "stdout",
     "output_type": "stream",
     "text": [
      "['X   X', 'X X', 'X', 'X X', 'X   X']\n"
     ]
    }
   ],
   "source": [
    "a = Solution()\n",
    "b = a.printX(5)\n",
    "print(b)"
   ]
  },
  {
   "cell_type": "markdown",
   "id": "4466000e",
   "metadata": {},
   "source": [
    "# 214.数组的最大值"
   ]
  },
  {
   "cell_type": "code",
   "execution_count": 87,
   "id": "d09f7d9c",
   "metadata": {},
   "outputs": [],
   "source": [
    "class Solution():\n",
    "    def getMaxOfMatrix(self, M):\n",
    "        max = 0\n",
    "        for i in range(len(M)):\n",
    "            if(max < M[i]):\n",
    "                max = M[i]\n",
    "            else:\n",
    "                max = max\n",
    "        return max"
   ]
  },
  {
   "cell_type": "code",
   "execution_count": 92,
   "id": "8a26ad61",
   "metadata": {},
   "outputs": [
    {
     "data": {
      "text/plain": [
       "2.1"
      ]
     },
     "execution_count": 92,
     "metadata": {},
     "output_type": "execute_result"
    }
   ],
   "source": [
    "a = Solution()\n",
    "a.getMaxOfMatrix([1.1, 2.1, 1.3])"
   ]
  },
  {
   "cell_type": "markdown",
   "id": "59314794",
   "metadata": {},
   "source": [
    "# 485.生成给定大小的数组"
   ]
  },
  {
   "cell_type": "code",
   "execution_count": 94,
   "id": "a90edf66",
   "metadata": {},
   "outputs": [],
   "source": [
    "class Solution():\n",
    "    def generateArray(self, size):\n",
    "        return(list(range(1,size+1)))"
   ]
  },
  {
   "cell_type": "code",
   "execution_count": 97,
   "id": "745b1711",
   "metadata": {},
   "outputs": [
    {
     "data": {
      "text/plain": [
       "[1, 2, 3, 4, 5, 6, 7, 8, 9, 10]"
      ]
     },
     "execution_count": 97,
     "metadata": {},
     "output_type": "execute_result"
    }
   ],
   "source": [
    "a = Solution()\n",
    "a.generateArray(10)"
   ]
  },
  {
   "cell_type": "markdown",
   "id": "557e9df8",
   "metadata": {},
   "source": [
    "# 539 移动"
   ]
  },
  {
   "cell_type": "code",
   "execution_count": 113,
   "id": "2ea944f2",
   "metadata": {},
   "outputs": [],
   "source": [
    "class Solution():\n",
    "    def moveZero(self, array):\n",
    "        left, right = 0, 0\n",
    "        while right < len(array):\n",
    "            if array[right] != 0:\n",
    "                if left != right:\n",
    "                    array[left] = array[right]\n",
    "                left += 1\n",
    "            right += 1\n",
    "        \n",
    "        while left < len(array):\n",
    "            if array[left] != 0:\n",
    "                array[left] = 0\n",
    "            left += 1\n",
    "            \n",
    "        return array"
   ]
  },
  {
   "cell_type": "code",
   "execution_count": 119,
   "id": "70eb71fc",
   "metadata": {},
   "outputs": [
    {
     "data": {
      "text/plain": [
       "[1, 2, 3, 0, 0]"
      ]
     },
     "execution_count": 119,
     "metadata": {},
     "output_type": "execute_result"
    }
   ],
   "source": [
    "a = Solution()\n",
    "b = [0,1,2,0,3]\n",
    "a.moveZero(b)"
   ]
  },
  {
   "cell_type": "markdown",
   "id": "00447579",
   "metadata": {},
   "source": [
    "# 297.寻找最大值（int）"
   ]
  },
  {
   "cell_type": "code",
   "execution_count": 5,
   "id": "b0b1ccc3",
   "metadata": {},
   "outputs": [],
   "source": [
    "class Solution():\n",
    "    def getMaxOfInt(slef, A:int) -> int:\n",
    "        max = 0\n",
    "        for i in range(len(A)):\n",
    "            if(max < A[i]):\n",
    "                max = A[i]\n",
    "            else:\n",
    "                max = max\n",
    "        return max       "
   ]
  },
  {
   "cell_type": "code",
   "execution_count": 7,
   "id": "56c4ce48",
   "metadata": {},
   "outputs": [
    {
     "data": {
      "text/plain": [
       "21"
      ]
     },
     "execution_count": 7,
     "metadata": {},
     "output_type": "execute_result"
    }
   ],
   "source": [
    "a = Solution()\n",
    "a.getMaxOfInt([1,21,3])"
   ]
  },
  {
   "cell_type": "markdown",
   "id": "632996a7",
   "metadata": {},
   "source": [
    "# 484.交换数组两个元素"
   ]
  },
  {
   "cell_type": "code",
   "execution_count": 15,
   "id": "1688a909",
   "metadata": {},
   "outputs": [],
   "source": [
    "class Solution():\n",
    "    def exchangTowElement(self, A, index1, index2):\n",
    "        temp = A[index1]\n",
    "        A[index1] = A[index2]\n",
    "        A[index2] = temp"
   ]
  },
  {
   "cell_type": "code",
   "execution_count": 16,
   "id": "bb2073c8",
   "metadata": {},
   "outputs": [
    {
     "name": "stdout",
     "output_type": "stream",
     "text": [
      "[4, 2, 3, 1]\n"
     ]
    }
   ],
   "source": [
    "a = Solution()\n",
    "A = [1,2,3,4]\n",
    "a.exchangTowElement(A,0,3)\n",
    "print(A)"
   ]
  },
  {
   "cell_type": "markdown",
   "id": "f9c333f5",
   "metadata": {},
   "source": []
  }
 ],
 "metadata": {
  "kernelspec": {
   "display_name": "Python 3 (ipykernel)",
   "language": "python",
   "name": "python3"
  },
  "language_info": {
   "codemirror_mode": {
    "name": "ipython",
    "version": 3
   },
   "file_extension": ".py",
   "mimetype": "text/x-python",
   "name": "python",
   "nbconvert_exporter": "python",
   "pygments_lexer": "ipython3",
   "version": "3.9.2+"
  }
 },
 "nbformat": 4,
 "nbformat_minor": 5
}
