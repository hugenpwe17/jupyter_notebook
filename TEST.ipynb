{
 "cells": [
  {
   "cell_type": "code",
   "execution_count": 21,
   "id": "30fe29fa",
   "metadata": {},
   "outputs": [
    {
     "name": "stdout",
     "output_type": "stream",
     "text": [
      "254.92074141020814\n"
     ]
    }
   ],
   "source": [
    "import numpy as np\n",
    "import math\n",
    "\n",
    "a = np.linspace(0, 2*math.pi, 64)\n",
    "b = 255*np.sin(a)\n",
    "\n",
    "print(b[16])"
   ]
  },
  {
   "cell_type": "code",
   "execution_count": 41,
   "id": "57a222cc",
   "metadata": {},
   "outputs": [],
   "source": [
    "y = np.array([255,254,252,249,245,239,233,225,217,207,197,186,174,162,150,137,124,112,99,87,75,64,53,43,34,26,19,13,8,4,1,0])"
   ]
  },
  {
   "cell_type": "code",
   "execution_count": 42,
   "id": "a0b5d706",
   "metadata": {},
   "outputs": [
    {
     "data": {
      "text/plain": [
       "32"
      ]
     },
     "execution_count": 42,
     "metadata": {},
     "output_type": "execute_result"
    }
   ],
   "source": [
    "y.size"
   ]
  },
  {
   "cell_type": "code",
   "execution_count": 61,
   "id": "53e38d8b",
   "metadata": {},
   "outputs": [],
   "source": [
    "x = np.linspace(1, 32, 32)"
   ]
  },
  {
   "cell_type": "code",
   "execution_count": 89,
   "id": "ab639bd4",
   "metadata": {},
   "outputs": [
    {
     "data": {
      "text/plain": [
       "[<matplotlib.lines.Line2D at 0x7fc9fb589160>]"
      ]
     },
     "execution_count": 89,
     "metadata": {},
     "output_type": "execute_result"
    },
    {
     "data": {
      "image/png": "[encoded data removed]",
      "text/plain": [
       "<Figure size 432x288 with 1 Axes>"
      ]
     },
     "metadata": {
      "needs_background": "light"
     },
     "output_type": "display_data"
    }
   ],
   "source": [
    "import matplotlib.pyplot as plt\n",
    "plt.plot(x,y)\n",
    "plt.plot(x,128 + 128*np.cos(x*(math.pi/32)),'--')"
   ]
  },
  {
   "cell_type": "code",
   "execution_count": 93,
   "id": "564bedc0",
   "metadata": {},
   "outputs": [],
   "source": [
    "x = np.linspace(1, 64, 64)"
   ]
  },
  {
   "cell_type": "code",
   "execution_count": 97,
   "id": "0592d6c4",
   "metadata": {},
   "outputs": [
    {
     "ename": "SyntaxError",
     "evalue": "invalid syntax (1432062992.py, line 1)",
     "output_type": "error",
     "traceback": [
      "\u001b[0;36m  File \u001b[0;32m\"/tmp/ipykernel_677/1432062992.py\"\u001b[0;36m, line \u001b[0;32m1\u001b[0m\n\u001b[0;31m    for i = 1:64:\u001b[0m\n\u001b[0m          ^\u001b[0m\n\u001b[0;31mSyntaxError\u001b[0m\u001b[0;31m:\u001b[0m invalid syntax\n"
     ]
    }
   ],
   "source": [
    "for i = 1:64\n",
    "    print(i,)"
   ]
  }
 ],
 "metadata": {
  "kernelspec": {
   "display_name": "Python 3 (ipykernel)",
   "language": "python",
   "name": "python3"
  },
  "language_info": {
   "codemirror_mode": {
    "name": "ipython",
    "version": 3
   },
   "file_extension": ".py",
   "mimetype": "text/x-python",
   "name": "python",
   "nbconvert_exporter": "python",
   "pygments_lexer": "ipython3",
   "version": "3.9.7"
  }
 },
 "nbformat": 4,
 "nbformat_minor": 5
}
